{
 "cells": [
  {
   "cell_type": "markdown",
   "metadata": {},
   "source": [
    "# IBM Data Science Capstone Project\n",
    "## Investigation of Towns in Hartford County, Connecticut"
   ]
  },
  {
   "cell_type": "markdown",
   "metadata": {},
   "source": [
    "## Introduction:"
   ]
  },
  {
   "cell_type": "markdown",
   "metadata": {},
   "source": [
    "On average, Americans move homes once every 5 years.  However, once retirement age is reached (or quickly approaching), people are looking for their forever home.  Moving is listed as one of the top ten most stressful life events.  So, needless to say, when making that final move, you want to be sure to get it right.\n",
    "\n",
    "Recently, a friend of mine mentioned that she and her husband are looking to move within the next year or two.  They have found a town in Hartford County, Connecticut that they really like.  However, not being familiar with Connecticut, they are not sure which towns in the area would be similar to the town they like.  In addition, it would be nice if they knew what the culture is like surrounding various towns.  What are the popular venues? Are these venues they would be interested in?  \n",
    "\n",
    "In order to help them narrow down their choices, I will use data science to investigate the towns in Hartford County, Connecticut. \n",
    "\n",
    "This type of investigation would be appealing on a large scale, given how often people move.  The conclusions drawn from such an investigation would not only appeal to people who are planning to move, but also to real estate agents, trying to find areas to show their clients.  "
   ]
  },
  {
   "cell_type": "markdown",
   "metadata": {},
   "source": [
    "## Data:\n",
    "\n",
    "Data will be scraped from the web and will include attributes like: Population; Median Household Income; Median Age; etc. I plan to discuss with the couple which attributes are important to them in their destination town to be sure that they are included. I intend to use segmenting and clustering in addition to the KNN (K-nearest-neighbors) algorithm to conduct the analysis. \n",
    "\n",
    "Foursquare data will be used to answer the question of cultural interests surrounding the town (in other words, the trending venues). This information will further be used in the comparison of the target town to the other towns in Hartford County. The categorical variables obtained from Foursquare will be converted into numerical attributes, using dummy variables to facilitate analysis."
   ]
  },
  {
   "cell_type": "markdown",
   "metadata": {},
   "source": [
    "### KNN:\n",
    "Because the goal of this project is to find the towns in Hartford County most similar to  the target town, KNN is well-suited for the initial analysis.  This algorithm uses attributes and features to find data points that are most similar to the target variable.\n",
    "\n",
    "### Segmentation and Clustering:\n",
    "Segmentation and clustering classifies given data points into groups, or clusters, that are internally similar and externally dissimilar.  In other words, data points within a cluster are similar based on a given attribute or attributes; however, clusters are separated based on dissimilarities from each other."
   ]
  }
 ],
 "metadata": {
  "kernelspec": {
   "display_name": "Python 3",
   "language": "python",
   "name": "python3"
  },
  "language_info": {
   "codemirror_mode": {
    "name": "ipython",
    "version": 3
   },
   "file_extension": ".py",
   "mimetype": "text/x-python",
   "name": "python",
   "nbconvert_exporter": "python",
   "pygments_lexer": "ipython3",
   "version": "3.7.6"
  }
 },
 "nbformat": 4,
 "nbformat_minor": 4
}
